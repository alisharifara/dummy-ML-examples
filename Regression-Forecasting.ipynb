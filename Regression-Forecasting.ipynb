{
 "cells": [
  {
   "cell_type": "code",
   "execution_count": 263,
   "metadata": {},
   "outputs": [],
   "source": [
    "import math\n",
    "import pandas as pd\n",
    "import numpy as np\n",
    "import quandl\n",
    "import datetime\n",
    "import matplotlib.pyplot as plt\n",
    "from matplotlib import style\n",
    "import pickle\n",
    "style.use('ggplot')\n",
    "\n",
    "from sklearn import preprocessing,svm\n",
    "from sklearn.model_selection import cross_validate, train_test_split\n",
    "from sklearn.linear_model import LinearRegression"
   ]
  },
  {
   "cell_type": "code",
   "execution_count": 264,
   "metadata": {},
   "outputs": [],
   "source": [
    "df = quandl.get(\"WIKI/GOOGL\")"
   ]
  },
  {
   "cell_type": "code",
   "execution_count": 265,
   "metadata": {},
   "outputs": [
    {
     "data": {
      "text/html": [
       "<div>\n",
       "<style scoped>\n",
       "    .dataframe tbody tr th:only-of-type {\n",
       "        vertical-align: middle;\n",
       "    }\n",
       "\n",
       "    .dataframe tbody tr th {\n",
       "        vertical-align: top;\n",
       "    }\n",
       "\n",
       "    .dataframe thead th {\n",
       "        text-align: right;\n",
       "    }\n",
       "</style>\n",
       "<table border=\"1\" class=\"dataframe\">\n",
       "  <thead>\n",
       "    <tr style=\"text-align: right;\">\n",
       "      <th></th>\n",
       "      <th>Open</th>\n",
       "      <th>High</th>\n",
       "      <th>Low</th>\n",
       "      <th>Close</th>\n",
       "      <th>Volume</th>\n",
       "      <th>Ex-Dividend</th>\n",
       "      <th>Split Ratio</th>\n",
       "      <th>Adj. Open</th>\n",
       "      <th>Adj. High</th>\n",
       "      <th>Adj. Low</th>\n",
       "      <th>Adj. Close</th>\n",
       "      <th>Adj. Volume</th>\n",
       "    </tr>\n",
       "    <tr>\n",
       "      <th>Date</th>\n",
       "      <th></th>\n",
       "      <th></th>\n",
       "      <th></th>\n",
       "      <th></th>\n",
       "      <th></th>\n",
       "      <th></th>\n",
       "      <th></th>\n",
       "      <th></th>\n",
       "      <th></th>\n",
       "      <th></th>\n",
       "      <th></th>\n",
       "      <th></th>\n",
       "    </tr>\n",
       "  </thead>\n",
       "  <tbody>\n",
       "    <tr>\n",
       "      <th>2004-08-19</th>\n",
       "      <td>100.01</td>\n",
       "      <td>104.06</td>\n",
       "      <td>95.96</td>\n",
       "      <td>100.335</td>\n",
       "      <td>44659000.0</td>\n",
       "      <td>0.0</td>\n",
       "      <td>1.0</td>\n",
       "      <td>50.159839</td>\n",
       "      <td>52.191109</td>\n",
       "      <td>48.128568</td>\n",
       "      <td>50.322842</td>\n",
       "      <td>44659000.0</td>\n",
       "    </tr>\n",
       "    <tr>\n",
       "      <th>2004-08-20</th>\n",
       "      <td>101.01</td>\n",
       "      <td>109.08</td>\n",
       "      <td>100.50</td>\n",
       "      <td>108.310</td>\n",
       "      <td>22834300.0</td>\n",
       "      <td>0.0</td>\n",
       "      <td>1.0</td>\n",
       "      <td>50.661387</td>\n",
       "      <td>54.708881</td>\n",
       "      <td>50.405597</td>\n",
       "      <td>54.322689</td>\n",
       "      <td>22834300.0</td>\n",
       "    </tr>\n",
       "    <tr>\n",
       "      <th>2004-08-23</th>\n",
       "      <td>110.76</td>\n",
       "      <td>113.48</td>\n",
       "      <td>109.05</td>\n",
       "      <td>109.400</td>\n",
       "      <td>18256100.0</td>\n",
       "      <td>0.0</td>\n",
       "      <td>1.0</td>\n",
       "      <td>55.551482</td>\n",
       "      <td>56.915693</td>\n",
       "      <td>54.693835</td>\n",
       "      <td>54.869377</td>\n",
       "      <td>18256100.0</td>\n",
       "    </tr>\n",
       "    <tr>\n",
       "      <th>2004-08-24</th>\n",
       "      <td>111.24</td>\n",
       "      <td>111.60</td>\n",
       "      <td>103.57</td>\n",
       "      <td>104.870</td>\n",
       "      <td>15247300.0</td>\n",
       "      <td>0.0</td>\n",
       "      <td>1.0</td>\n",
       "      <td>55.792225</td>\n",
       "      <td>55.972783</td>\n",
       "      <td>51.945350</td>\n",
       "      <td>52.597363</td>\n",
       "      <td>15247300.0</td>\n",
       "    </tr>\n",
       "    <tr>\n",
       "      <th>2004-08-25</th>\n",
       "      <td>104.76</td>\n",
       "      <td>108.00</td>\n",
       "      <td>103.88</td>\n",
       "      <td>106.000</td>\n",
       "      <td>9188600.0</td>\n",
       "      <td>0.0</td>\n",
       "      <td>1.0</td>\n",
       "      <td>52.542193</td>\n",
       "      <td>54.167209</td>\n",
       "      <td>52.100830</td>\n",
       "      <td>53.164113</td>\n",
       "      <td>9188600.0</td>\n",
       "    </tr>\n",
       "  </tbody>\n",
       "</table>\n",
       "</div>"
      ],
      "text/plain": [
       "              Open    High     Low    Close      Volume  Ex-Dividend  \\\n",
       "Date                                                                   \n",
       "2004-08-19  100.01  104.06   95.96  100.335  44659000.0          0.0   \n",
       "2004-08-20  101.01  109.08  100.50  108.310  22834300.0          0.0   \n",
       "2004-08-23  110.76  113.48  109.05  109.400  18256100.0          0.0   \n",
       "2004-08-24  111.24  111.60  103.57  104.870  15247300.0          0.0   \n",
       "2004-08-25  104.76  108.00  103.88  106.000   9188600.0          0.0   \n",
       "\n",
       "            Split Ratio  Adj. Open  Adj. High   Adj. Low  Adj. Close  \\\n",
       "Date                                                                   \n",
       "2004-08-19          1.0  50.159839  52.191109  48.128568   50.322842   \n",
       "2004-08-20          1.0  50.661387  54.708881  50.405597   54.322689   \n",
       "2004-08-23          1.0  55.551482  56.915693  54.693835   54.869377   \n",
       "2004-08-24          1.0  55.792225  55.972783  51.945350   52.597363   \n",
       "2004-08-25          1.0  52.542193  54.167209  52.100830   53.164113   \n",
       "\n",
       "            Adj. Volume  \n",
       "Date                     \n",
       "2004-08-19   44659000.0  \n",
       "2004-08-20   22834300.0  \n",
       "2004-08-23   18256100.0  \n",
       "2004-08-24   15247300.0  \n",
       "2004-08-25    9188600.0  "
      ]
     },
     "execution_count": 265,
     "metadata": {},
     "output_type": "execute_result"
    }
   ],
   "source": [
    "df.head()"
   ]
  },
  {
   "cell_type": "code",
   "execution_count": 266,
   "metadata": {},
   "outputs": [],
   "source": [
    "df = df[['Adj. Open','Adj. High','Adj. Low','Adj. Close','Adj. Volume']]"
   ]
  },
  {
   "cell_type": "code",
   "execution_count": 267,
   "metadata": {},
   "outputs": [
    {
     "data": {
      "text/html": [
       "<div>\n",
       "<style scoped>\n",
       "    .dataframe tbody tr th:only-of-type {\n",
       "        vertical-align: middle;\n",
       "    }\n",
       "\n",
       "    .dataframe tbody tr th {\n",
       "        vertical-align: top;\n",
       "    }\n",
       "\n",
       "    .dataframe thead th {\n",
       "        text-align: right;\n",
       "    }\n",
       "</style>\n",
       "<table border=\"1\" class=\"dataframe\">\n",
       "  <thead>\n",
       "    <tr style=\"text-align: right;\">\n",
       "      <th></th>\n",
       "      <th>Adj. Open</th>\n",
       "      <th>Adj. High</th>\n",
       "      <th>Adj. Low</th>\n",
       "      <th>Adj. Close</th>\n",
       "      <th>Adj. Volume</th>\n",
       "    </tr>\n",
       "    <tr>\n",
       "      <th>Date</th>\n",
       "      <th></th>\n",
       "      <th></th>\n",
       "      <th></th>\n",
       "      <th></th>\n",
       "      <th></th>\n",
       "    </tr>\n",
       "  </thead>\n",
       "  <tbody>\n",
       "    <tr>\n",
       "      <th>2004-08-19</th>\n",
       "      <td>50.159839</td>\n",
       "      <td>52.191109</td>\n",
       "      <td>48.128568</td>\n",
       "      <td>50.322842</td>\n",
       "      <td>44659000.0</td>\n",
       "    </tr>\n",
       "    <tr>\n",
       "      <th>2004-08-20</th>\n",
       "      <td>50.661387</td>\n",
       "      <td>54.708881</td>\n",
       "      <td>50.405597</td>\n",
       "      <td>54.322689</td>\n",
       "      <td>22834300.0</td>\n",
       "    </tr>\n",
       "    <tr>\n",
       "      <th>2004-08-23</th>\n",
       "      <td>55.551482</td>\n",
       "      <td>56.915693</td>\n",
       "      <td>54.693835</td>\n",
       "      <td>54.869377</td>\n",
       "      <td>18256100.0</td>\n",
       "    </tr>\n",
       "    <tr>\n",
       "      <th>2004-08-24</th>\n",
       "      <td>55.792225</td>\n",
       "      <td>55.972783</td>\n",
       "      <td>51.945350</td>\n",
       "      <td>52.597363</td>\n",
       "      <td>15247300.0</td>\n",
       "    </tr>\n",
       "    <tr>\n",
       "      <th>2004-08-25</th>\n",
       "      <td>52.542193</td>\n",
       "      <td>54.167209</td>\n",
       "      <td>52.100830</td>\n",
       "      <td>53.164113</td>\n",
       "      <td>9188600.0</td>\n",
       "    </tr>\n",
       "  </tbody>\n",
       "</table>\n",
       "</div>"
      ],
      "text/plain": [
       "            Adj. Open  Adj. High   Adj. Low  Adj. Close  Adj. Volume\n",
       "Date                                                                \n",
       "2004-08-19  50.159839  52.191109  48.128568   50.322842   44659000.0\n",
       "2004-08-20  50.661387  54.708881  50.405597   54.322689   22834300.0\n",
       "2004-08-23  55.551482  56.915693  54.693835   54.869377   18256100.0\n",
       "2004-08-24  55.792225  55.972783  51.945350   52.597363   15247300.0\n",
       "2004-08-25  52.542193  54.167209  52.100830   53.164113    9188600.0"
      ]
     },
     "execution_count": 267,
     "metadata": {},
     "output_type": "execute_result"
    }
   ],
   "source": [
    "df.head()"
   ]
  },
  {
   "cell_type": "code",
   "execution_count": 268,
   "metadata": {},
   "outputs": [],
   "source": [
    "df ['HL_PCT'] = (df['Adj. High'] - df['Adj. Close']) / df['Adj. Close'] * 100.0\n",
    "df ['PCT_change'] = (df['Adj. Close'] - df['Adj. Open']) / df['Adj. Open'] * 100.0\n",
    "\n",
    "df = df[['Adj. Close','HL_PCT','PCT_change','Adj. Volume']]"
   ]
  },
  {
   "cell_type": "code",
   "execution_count": 269,
   "metadata": {},
   "outputs": [
    {
     "data": {
      "text/html": [
       "<div>\n",
       "<style scoped>\n",
       "    .dataframe tbody tr th:only-of-type {\n",
       "        vertical-align: middle;\n",
       "    }\n",
       "\n",
       "    .dataframe tbody tr th {\n",
       "        vertical-align: top;\n",
       "    }\n",
       "\n",
       "    .dataframe thead th {\n",
       "        text-align: right;\n",
       "    }\n",
       "</style>\n",
       "<table border=\"1\" class=\"dataframe\">\n",
       "  <thead>\n",
       "    <tr style=\"text-align: right;\">\n",
       "      <th></th>\n",
       "      <th>Adj. Close</th>\n",
       "      <th>HL_PCT</th>\n",
       "      <th>PCT_change</th>\n",
       "      <th>Adj. Volume</th>\n",
       "    </tr>\n",
       "    <tr>\n",
       "      <th>Date</th>\n",
       "      <th></th>\n",
       "      <th></th>\n",
       "      <th></th>\n",
       "      <th></th>\n",
       "    </tr>\n",
       "  </thead>\n",
       "  <tbody>\n",
       "    <tr>\n",
       "      <th>2004-08-19</th>\n",
       "      <td>50.322842</td>\n",
       "      <td>3.712563</td>\n",
       "      <td>0.324968</td>\n",
       "      <td>44659000.0</td>\n",
       "    </tr>\n",
       "    <tr>\n",
       "      <th>2004-08-20</th>\n",
       "      <td>54.322689</td>\n",
       "      <td>0.710922</td>\n",
       "      <td>7.227007</td>\n",
       "      <td>22834300.0</td>\n",
       "    </tr>\n",
       "    <tr>\n",
       "      <th>2004-08-23</th>\n",
       "      <td>54.869377</td>\n",
       "      <td>3.729433</td>\n",
       "      <td>-1.227880</td>\n",
       "      <td>18256100.0</td>\n",
       "    </tr>\n",
       "    <tr>\n",
       "      <th>2004-08-24</th>\n",
       "      <td>52.597363</td>\n",
       "      <td>6.417469</td>\n",
       "      <td>-5.726357</td>\n",
       "      <td>15247300.0</td>\n",
       "    </tr>\n",
       "    <tr>\n",
       "      <th>2004-08-25</th>\n",
       "      <td>53.164113</td>\n",
       "      <td>1.886792</td>\n",
       "      <td>1.183658</td>\n",
       "      <td>9188600.0</td>\n",
       "    </tr>\n",
       "  </tbody>\n",
       "</table>\n",
       "</div>"
      ],
      "text/plain": [
       "            Adj. Close    HL_PCT  PCT_change  Adj. Volume\n",
       "Date                                                     \n",
       "2004-08-19   50.322842  3.712563    0.324968   44659000.0\n",
       "2004-08-20   54.322689  0.710922    7.227007   22834300.0\n",
       "2004-08-23   54.869377  3.729433   -1.227880   18256100.0\n",
       "2004-08-24   52.597363  6.417469   -5.726357   15247300.0\n",
       "2004-08-25   53.164113  1.886792    1.183658    9188600.0"
      ]
     },
     "execution_count": 269,
     "metadata": {},
     "output_type": "execute_result"
    }
   ],
   "source": [
    "df.head()"
   ]
  },
  {
   "cell_type": "code",
   "execution_count": 270,
   "metadata": {},
   "outputs": [],
   "source": [
    "forecast_col = 'Adj. Close'"
   ]
  },
  {
   "cell_type": "code",
   "execution_count": 271,
   "metadata": {},
   "outputs": [],
   "source": [
    "# it can be treated as an outlier if there is any missing value\n",
    "df.fillna(-999999, inplace=True)"
   ]
  },
  {
   "cell_type": "code",
   "execution_count": 272,
   "metadata": {},
   "outputs": [
    {
     "data": {
      "text/plain": [
       "35"
      ]
     },
     "execution_count": 272,
     "metadata": {},
     "output_type": "execute_result"
    }
   ],
   "source": [
    "# forecast for next 10 days .. \n",
    "forecast_out = int(math.ceil(0.01 * len(df)))\n",
    "forecast_out"
   ]
  },
  {
   "cell_type": "code",
   "execution_count": 273,
   "metadata": {},
   "outputs": [],
   "source": [
    "df['label'] = df[forecast_col].shift(-forecast_out)"
   ]
  },
  {
   "cell_type": "code",
   "execution_count": 274,
   "metadata": {},
   "outputs": [],
   "source": [
    "X = np.array(df.drop(['label'],axis=1))\n",
    "X = preprocessing.scale(X)\n",
    "\n",
    "X = X[:-forecast_out]\n",
    "X_lately = X[-forecast_out:]\n",
    "\n",
    "df.dropna(inplace=True)\n",
    "y = np.array(df['label'])"
   ]
  },
  {
   "cell_type": "code",
   "execution_count": 275,
   "metadata": {},
   "outputs": [
    {
     "name": "stdout",
     "output_type": "stream",
     "text": [
      "(3389, 4)\n",
      "(3389,)\n"
     ]
    }
   ],
   "source": [
    "print(X.shape)\n",
    "print(y.shape)"
   ]
  },
  {
   "cell_type": "code",
   "execution_count": 276,
   "metadata": {},
   "outputs": [],
   "source": [
    "X_train, X_test, y_train, y_test = train_test_split(X,y, test_size=0.2)"
   ]
  },
  {
   "cell_type": "code",
   "execution_count": 277,
   "metadata": {},
   "outputs": [
    {
     "name": "stdout",
     "output_type": "stream",
     "text": [
      "(2711, 4)\n",
      "(2711,)\n",
      "(678, 4)\n",
      "(678,)\n"
     ]
    }
   ],
   "source": [
    "print(X_train.shape)\n",
    "print(y_train.shape)\n",
    "print(X_test.shape)\n",
    "print(y_test.shape)"
   ]
  },
  {
   "cell_type": "code",
   "execution_count": 278,
   "metadata": {},
   "outputs": [],
   "source": [
    "# n_jobs is the number of threads (jobs) for this computation. -1 means all the processors\n",
    "clf = LinearRegression(n_jobs=-1)\n",
    "clf.fit(X_train, y_train)\n",
    "\n",
    "# save the model \n",
    "with open('linearRegression.pickle',  'wb') as f:\n",
    "    pickle.dump(clf, f)"
   ]
  },
  {
   "cell_type": "code",
   "execution_count": 279,
   "metadata": {},
   "outputs": [],
   "source": [
    "# open the model\n",
    "pickle_in = open('linearRegression.pickle', 'rb')\n",
    "clf = pickle.load(pickle_in)"
   ]
  },
  {
   "cell_type": "code",
   "execution_count": 280,
   "metadata": {},
   "outputs": [
    {
     "name": "stdout",
     "output_type": "stream",
     "text": [
      "Accuracy: 0.9800395401042985\n"
     ]
    }
   ],
   "source": [
    "accuracy = clf.score(X_test, y_test)\n",
    "print('Accuracy:', accuracy)"
   ]
  },
  {
   "cell_type": "code",
   "execution_count": 281,
   "metadata": {},
   "outputs": [],
   "source": [
    "forecaset_set = clf.predict(X_lately)"
   ]
  },
  {
   "cell_type": "code",
   "execution_count": 282,
   "metadata": {},
   "outputs": [
    {
     "name": "stdout",
     "output_type": "stream",
     "text": [
      "[1077.4889934  1092.18144138 1106.19941186 1100.82107465 1094.3137612\n",
      " 1091.68847735 1090.15869037 1087.13127932 1080.88090116 1076.49922402\n",
      " 1074.24397746 1093.63948923 1112.0183621  1116.54232839 1131.49146064\n",
      " 1135.49583678 1134.17490981 1131.69673592 1133.49585535 1151.79876683\n",
      " 1150.79732333 1161.12040211 1157.64680372 1165.45424495 1185.61364396\n",
      " 1198.07556868 1192.21868471 1204.3249215  1209.93603884 1207.80444738\n",
      " 1198.5719759  1204.26606854 1202.82248086 1138.35479128 1084.71338671] days: 35\n"
     ]
    }
   ],
   "source": [
    "print(forecaset_set, 'days:', forecast_out)"
   ]
  },
  {
   "cell_type": "code",
   "execution_count": 283,
   "metadata": {},
   "outputs": [],
   "source": [
    "df['Forecast'] = np.nan"
   ]
  },
  {
   "cell_type": "code",
   "execution_count": 284,
   "metadata": {},
   "outputs": [],
   "source": [
    "last_date = df.iloc[-1].name\n",
    "last_unix = last_date.timestamp()\n",
    "one_day = 86400\n",
    "next_unix = last_unix + one_day\n",
    "\n",
    "for i in forecaset_set:\n",
    "    next_date = datetime.datetime.fromtimestamp(next_unix)\n",
    "    next_unix +=one_day\n",
    "    df.loc[next_date] = [np.nan for _ in range(len(df.columns)-1)] + [i]"
   ]
  },
  {
   "cell_type": "code",
   "execution_count": 285,
   "metadata": {},
   "outputs": [
    {
     "data": {
      "text/html": [
       "<div>\n",
       "<style scoped>\n",
       "    .dataframe tbody tr th:only-of-type {\n",
       "        vertical-align: middle;\n",
       "    }\n",
       "\n",
       "    .dataframe tbody tr th {\n",
       "        vertical-align: top;\n",
       "    }\n",
       "\n",
       "    .dataframe thead th {\n",
       "        text-align: right;\n",
       "    }\n",
       "</style>\n",
       "<table border=\"1\" class=\"dataframe\">\n",
       "  <thead>\n",
       "    <tr style=\"text-align: right;\">\n",
       "      <th></th>\n",
       "      <th>Adj. Close</th>\n",
       "      <th>HL_PCT</th>\n",
       "      <th>PCT_change</th>\n",
       "      <th>Adj. Volume</th>\n",
       "      <th>label</th>\n",
       "      <th>Forecast</th>\n",
       "    </tr>\n",
       "    <tr>\n",
       "      <th>Date</th>\n",
       "      <th></th>\n",
       "      <th></th>\n",
       "      <th></th>\n",
       "      <th></th>\n",
       "      <th></th>\n",
       "      <th></th>\n",
       "    </tr>\n",
       "  </thead>\n",
       "  <tbody>\n",
       "    <tr>\n",
       "      <th>2018-03-07 18:00:00</th>\n",
       "      <td>NaN</td>\n",
       "      <td>NaN</td>\n",
       "      <td>NaN</td>\n",
       "      <td>NaN</td>\n",
       "      <td>NaN</td>\n",
       "      <td>1198.571976</td>\n",
       "    </tr>\n",
       "    <tr>\n",
       "      <th>2018-03-08 18:00:00</th>\n",
       "      <td>NaN</td>\n",
       "      <td>NaN</td>\n",
       "      <td>NaN</td>\n",
       "      <td>NaN</td>\n",
       "      <td>NaN</td>\n",
       "      <td>1204.266069</td>\n",
       "    </tr>\n",
       "    <tr>\n",
       "      <th>2018-03-09 18:00:00</th>\n",
       "      <td>NaN</td>\n",
       "      <td>NaN</td>\n",
       "      <td>NaN</td>\n",
       "      <td>NaN</td>\n",
       "      <td>NaN</td>\n",
       "      <td>1202.822481</td>\n",
       "    </tr>\n",
       "    <tr>\n",
       "      <th>2018-03-10 18:00:00</th>\n",
       "      <td>NaN</td>\n",
       "      <td>NaN</td>\n",
       "      <td>NaN</td>\n",
       "      <td>NaN</td>\n",
       "      <td>NaN</td>\n",
       "      <td>1138.354791</td>\n",
       "    </tr>\n",
       "    <tr>\n",
       "      <th>2018-03-11 19:00:00</th>\n",
       "      <td>NaN</td>\n",
       "      <td>NaN</td>\n",
       "      <td>NaN</td>\n",
       "      <td>NaN</td>\n",
       "      <td>NaN</td>\n",
       "      <td>1084.713387</td>\n",
       "    </tr>\n",
       "  </tbody>\n",
       "</table>\n",
       "</div>"
      ],
      "text/plain": [
       "                     Adj. Close  HL_PCT  PCT_change  Adj. Volume  label  \\\n",
       "Date                                                                      \n",
       "2018-03-07 18:00:00         NaN     NaN         NaN          NaN    NaN   \n",
       "2018-03-08 18:00:00         NaN     NaN         NaN          NaN    NaN   \n",
       "2018-03-09 18:00:00         NaN     NaN         NaN          NaN    NaN   \n",
       "2018-03-10 18:00:00         NaN     NaN         NaN          NaN    NaN   \n",
       "2018-03-11 19:00:00         NaN     NaN         NaN          NaN    NaN   \n",
       "\n",
       "                        Forecast  \n",
       "Date                              \n",
       "2018-03-07 18:00:00  1198.571976  \n",
       "2018-03-08 18:00:00  1204.266069  \n",
       "2018-03-09 18:00:00  1202.822481  \n",
       "2018-03-10 18:00:00  1138.354791  \n",
       "2018-03-11 19:00:00  1084.713387  "
      ]
     },
     "execution_count": 285,
     "metadata": {},
     "output_type": "execute_result"
    }
   ],
   "source": [
    "df.tail()"
   ]
  },
  {
   "cell_type": "code",
   "execution_count": 286,
   "metadata": {},
   "outputs": [
    {
     "data": {
      "image/png": "[encoded data removed]",
      "text/plain": [
       "<Figure size 1440x720 with 1 Axes>"
      ]
     },
     "metadata": {},
     "output_type": "display_data"
    }
   ],
   "source": [
    "plt.figure(figsize=(20,10))\n",
    "df['Adj. Close'].plot()\n",
    "df['Forecast'].plot()\n",
    "plt.legend(loc=4)\n",
    "plt.xlabel('Date')\n",
    "plt.ylabel('Price')\n",
    "plt.show();"
   ]
  },
  {
   "cell_type": "code",
   "execution_count": null,
   "metadata": {},
   "outputs": [],
   "source": []
  },
  {
   "cell_type": "code",
   "execution_count": null,
   "metadata": {},
   "outputs": [],
   "source": []
  }
 ],
 "metadata": {
  "kernelspec": {
   "display_name": "Python 3",
   "language": "python",
   "name": "python3"
  },
  "language_info": {
   "codemirror_mode": {
    "name": "ipython",
    "version": 3
   },
   "file_extension": ".py",
   "mimetype": "text/x-python",
   "name": "python",
   "nbconvert_exporter": "python",
   "pygments_lexer": "ipython3",
   "version": "3.6.8"
  }
 },
 "nbformat": 4,
 "nbformat_minor": 2
}
